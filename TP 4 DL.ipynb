{
  "nbformat": 4,
  "nbformat_minor": 0,
  "metadata": {
    "accelerator": "GPU",
    "colab": {
      "name": "Copy of text_classification_rnn.ipynb",
      "provenance": [],
      "collapsed_sections": [],
      "include_colab_link": true
    },
    "kernelspec": {
      "display_name": "Python 3",
      "name": "python3"
    }
  },
  "cells": [
    {
      "cell_type": "markdown",
      "metadata": {
        "id": "view-in-github",
        "colab_type": "text"
      },
      "source": [
        "<a href=\"https://colab.research.google.com/github/YOUbhrt/TP-DEEP-LEARNING/blob/main/TP%204%20DL.ipynb\" target=\"_parent\"><img src=\"https://colab.research.google.com/assets/colab-badge.svg\" alt=\"Open In Colab\"/></a>"
      ]
    },
    {
      "cell_type": "markdown",
      "metadata": {
        "id": "hX4n9TsbGw-f"
      },
      "source": [
        "##### Copyright 2018 The TensorFlow Authors."
      ]
    },
    {
      "cell_type": "code",
      "metadata": {
        "cellView": "form",
        "id": "0nbI5DtDGw-i"
      },
      "source": [
        "#@title Licensed under the Apache License, Version 2.0 (the \"License\");\n",
        "# you may not use this file except in compliance with the License.\n",
        "# You may obtain a copy of the License at\n",
        "#\n",
        "# https://www.apache.org/licenses/LICENSE-2.0\n",
        "#\n",
        "# Unless required by applicable law or agreed to in writing, software\n",
        "# distributed under the License is distributed on an \"AS IS\" BASIS,\n",
        "# WITHOUT WARRANTIES OR CONDITIONS OF ANY KIND, either express or implied.\n",
        "# See the License for the specific language governing permissions and\n",
        "# limitations under the License."
      ],
      "execution_count": null,
      "outputs": []
    },
    {
      "cell_type": "markdown",
      "metadata": {
        "id": "9TnJztDZGw-n"
      },
      "source": [
        "# Text classification with an RNN"
      ]
    },
    {
      "cell_type": "markdown",
      "metadata": {
        "id": "AfN3bMR5Gw-o"
      },
      "source": [
        "<table class=\"tfo-notebook-buttons\" align=\"left\">\n",
        "  <td>\n",
        "    <a target=\"_blank\" href=\"https://www.tensorflow.org/tutorials/text/text_classification_rnn\"><img src=\"https://www.tensorflow.org/images/tf_logo_32px.png\" />View on TensorFlow.org</a>\n",
        "  </td>\n",
        "  <td>\n",
        "    <a target=\"_blank\" href=\"https://colab.research.google.com/github/tensorflow/docs/blob/master/site/en/tutorials/text/text_classification_rnn.ipynb\"><img src=\"https://www.tensorflow.org/images/colab_logo_32px.png\" />Run in Google Colab</a>\n",
        "  </td>\n",
        "  <td>\n",
        "    <a target=\"_blank\" href=\"https://github.com/tensorflow/docs/blob/master/site/en/tutorials/text/text_classification_rnn.ipynb\"><img src=\"https://www.tensorflow.org/images/GitHub-Mark-32px.png\" />View source on GitHub</a>\n",
        "  </td>\n",
        "  <td>\n",
        "    <a href=\"https://storage.googleapis.com/tensorflow_docs/docs/site/en/tutorials/text/text_classification_rnn.ipynb\"><img src=\"https://www.tensorflow.org/images/download_logo_32px.png\" />Download notebook</a>\n",
        "  </td>\n",
        "</table>"
      ]
    },
    {
      "cell_type": "markdown",
      "metadata": {
        "id": "lUWearf0Gw-p"
      },
      "source": [
        "This text classification tutorial trains a [recurrent neural network](https://developers.google.com/machine-learning/glossary/#recurrent_neural_network) on the [IMDB large movie review dataset](http://ai.stanford.edu/~amaas/data/sentiment/) for sentiment analysis."
      ]
    },
    {
      "cell_type": "markdown",
      "metadata": {
        "id": "_2VQo4bajwUU"
      },
      "source": [
        "## Setup"
      ]
    },
    {
      "cell_type": "code",
      "metadata": {
        "id": "vH_FAfIz5dEw"
      },
      "source": [
        "!pip install -q tensorflow_datasets"
      ],
      "execution_count": null,
      "outputs": []
    },
    {
      "cell_type": "code",
      "metadata": {
        "id": "z682XYsrjkY9"
      },
      "source": [
        "import numpy as np\n",
        "\n",
        "import tensorflow_datasets as tfds\n",
        "import tensorflow as tf\n",
        "\n",
        "tfds.disable_progress_bar()"
      ],
      "execution_count": null,
      "outputs": []
    },
    {
      "cell_type": "markdown",
      "metadata": {
        "id": "1rXHa-w9JZhb"
      },
      "source": [
        "Import `matplotlib` and create a helper function to plot graphs:"
      ]
    },
    {
      "cell_type": "code",
      "metadata": {
        "id": "Mp1Z7P9pYRSK"
      },
      "source": [
        "import matplotlib.pyplot as plt\n",
        "\n",
        "def plot_graphs(history, metric):\n",
        "  plt.plot(history.history[metric])\n",
        "  plt.plot(history.history['val_'+metric], '')\n",
        "  plt.xlabel(\"Epochs\")\n",
        "  plt.ylabel(metric)\n",
        "  plt.legend([metric, 'val_'+metric])"
      ],
      "execution_count": null,
      "outputs": []
    },
    {
      "cell_type": "markdown",
      "metadata": {
        "id": "pRmMubr0jrE2"
      },
      "source": [
        "## Setup input pipeline\n",
        "\n",
        "\n",
        "The IMDB large movie review dataset is a *binary classification* dataset—all the reviews have either a *positive* or *negative* sentiment.\n",
        "\n",
        "Download the dataset using [TFDS](https://www.tensorflow.org/datasets). See the [loading text tutorial](../load_data/text.ipynb) for details on how to load this sort of data manually.\n"
      ]
    },
    {
      "cell_type": "code",
      "metadata": {
        "id": "SHRwRoP2nVHX",
        "colab": {
          "base_uri": "https://localhost:8080/"
        },
        "outputId": "4e332d4b-becf-479e-b3d1-653f7196dffb"
      },
      "source": [
        "dataset, info = tfds.load('imdb_reviews', with_info=True,\n",
        "                          as_supervised=True)\n",
        "train_dataset, test_dataset = dataset['train'], dataset['test']\n",
        "\n",
        "train_dataset.element_spec"
      ],
      "execution_count": null,
      "outputs": [
        {
          "output_type": "stream",
          "text": [
            "\u001b[1mDownloading and preparing dataset imdb_reviews/plain_text/1.0.0 (download: 80.23 MiB, generated: Unknown size, total: 80.23 MiB) to /root/tensorflow_datasets/imdb_reviews/plain_text/1.0.0...\u001b[0m\n",
            "Shuffling and writing examples to /root/tensorflow_datasets/imdb_reviews/plain_text/1.0.0.incompleteEJK3B4/imdb_reviews-train.tfrecord\n",
            "Shuffling and writing examples to /root/tensorflow_datasets/imdb_reviews/plain_text/1.0.0.incompleteEJK3B4/imdb_reviews-test.tfrecord\n"
          ],
          "name": "stdout"
        },
        {
          "output_type": "stream",
          "text": [
            "WARNING:absl:Dataset is using deprecated text encoder API which will be removed soon. Please use the plain_text version of the dataset and migrate to `tensorflow_text`.\n"
          ],
          "name": "stderr"
        },
        {
          "output_type": "stream",
          "text": [
            "Shuffling and writing examples to /root/tensorflow_datasets/imdb_reviews/plain_text/1.0.0.incompleteEJK3B4/imdb_reviews-unsupervised.tfrecord\n",
            "\u001b[1mDataset imdb_reviews downloaded and prepared to /root/tensorflow_datasets/imdb_reviews/plain_text/1.0.0. Subsequent calls will reuse this data.\u001b[0m\n"
          ],
          "name": "stdout"
        },
        {
          "output_type": "execute_result",
          "data": {
            "text/plain": [
              "(TensorSpec(shape=(), dtype=tf.string, name=None),\n",
              " TensorSpec(shape=(), dtype=tf.int64, name=None))"
            ]
          },
          "metadata": {
            "tags": []
          },
          "execution_count": 4
        }
      ]
    },
    {
      "cell_type": "markdown",
      "metadata": {
        "id": "nWA4c2ir7g6p"
      },
      "source": [
        "Initially this returns a dataset of (text, label pairs):"
      ]
    },
    {
      "cell_type": "code",
      "metadata": {
        "id": "vd4_BGKyurao",
        "colab": {
          "base_uri": "https://localhost:8080/"
        },
        "outputId": "8d440643-49f6-45b5-991e-27888e254779"
      },
      "source": [
        "for example, label in train_dataset.take(1):\n",
        "  print('text: ', example.numpy())\n",
        "  print('label: ', label.numpy())"
      ],
      "execution_count": null,
      "outputs": [
        {
          "output_type": "stream",
          "text": [
            "text:  b\"This was an absolutely terrible movie. Don't be lured in by Christopher Walken or Michael Ironside. Both are great actors, but this must simply be their worst role in history. Even their great acting could not redeem this movie's ridiculous storyline. This movie is an early nineties US propaganda piece. The most pathetic scenes were those when the Columbian rebels were making their cases for revolutions. Maria Conchita Alonso appeared phony, and her pseudo-love affair with Walken was nothing but a pathetic emotional plug in a movie that was devoid of any real meaning. I am disappointed that there are movies like this, ruining actor's like Christopher Walken's good name. I could barely sit through it.\"\n",
            "label:  0\n"
          ],
          "name": "stdout"
        }
      ]
    },
    {
      "cell_type": "markdown",
      "metadata": {
        "id": "z2qVJzcEluH_"
      },
      "source": [
        "Next shuffle the data for training and create batches of these `(text, label)` pairs:"
      ]
    },
    {
      "cell_type": "code",
      "metadata": {
        "id": "dDsCaZCDYZgm"
      },
      "source": [
        "BUFFER_SIZE = 10000\n",
        "BATCH_SIZE = 64"
      ],
      "execution_count": null,
      "outputs": []
    },
    {
      "cell_type": "code",
      "metadata": {
        "id": "VznrltNOnUc5"
      },
      "source": [
        "train_dataset = train_dataset.shuffle(BUFFER_SIZE).batch(BATCH_SIZE).prefetch(tf.data.experimental.AUTOTUNE)\n",
        "test_dataset = test_dataset.batch(BATCH_SIZE).prefetch(tf.data.experimental.AUTOTUNE)"
      ],
      "execution_count": null,
      "outputs": []
    },
    {
      "cell_type": "code",
      "metadata": {
        "id": "jqkvdcFv41wC",
        "colab": {
          "base_uri": "https://localhost:8080/"
        },
        "outputId": "acc6b5dc-69d9-4b0c-a3f4-9a4ab9a32aa5"
      },
      "source": [
        "for example, label in train_dataset.take(1):\n",
        "  print('texts: ', example.numpy()[:3])\n",
        "  print()\n",
        "  print('labels: ', label.numpy()[:3])"
      ],
      "execution_count": null,
      "outputs": [
        {
          "output_type": "stream",
          "text": [
            "texts:  [b'What was the point of this movie? What was the plot? I do not know. Shaq can\\'t act, people don\\'t know how to direct, and I am Kazaam! A genie who raps? Come on. Maybe Eminem or Linkin Park will be in a movie like this. I remember I watched this just to kill time. It didn\\'t really interest me. I just remember thinking, \"Who put Shaq in this movie???\" The whole story seemed stupid too. It made no sense whatsoever. I guess an unrealized moral of this movie is that you can find anything in the ghetto and anything can happen. I can\\'t comment much more because this movie is so terrible there\\'s nothing worth commenting about. I \"wish\" this movie would go away.'\n",
            " b'I disliked Frosty returns and this one. Both of the films are absurd with poorly written characters and bad voices. The voices could have been done but Frosty returns was worst than this because of the unalike snowman they drew. Frosty\\'s winterwonder land was great and so was the original heartwarming Drama. The only good thing about this film was Frosty the snowman was alike of the classic 60s and a funny line like when they were talking about things that are not real and then Frosty walks by the window humming, whistling whatever he was doing but everything else was badly written and badly animated and I barely got the plot. I saw the DVD cover at the library about 2 or 3 years ago and the art looked crappy so I didn\\'t pick it up until this year because the pictures on the back looked a little touching but I played this film. It was a hassle poorly art characters just like the DVD and it was just terrible about what\\'s going on. I watched this at night and found it dull that I fell asleep on the whole thing (Wait I always do that when I watch something while I go to sleep) But this movie was overall boring<br /><br />Overall rating: Grade -C<br /><br />This is like another holiday special bad rip-off in the frosty returns and this one. This one is the badly 4th sequel like Home alone 4 well i thought that movie was OK but home alone 3 was great. But it\\'s like a bad home alone 3 and 4 people hate like this. My sister didn\\'t watch it that much because when she came into my room to watch 2 minutes and a half of it, she walked away like \"I hate the animation!\" I agree to her just like the 3rd one Frosty returns. Plain awful!'\n",
            " b\"The film concerns a classic theme. In fact it concerns the theme exploited by Batman, from beginning to end, but in real data and details. The mayor of New York, appreciated and very diligent and dynamic, in order to get some project through slightly faster than normal, yields to some pressure from some private business contractors about a criminal drug dealer who should have been sent and kept in prison and he pressurizes the judge in his turn to set him free on probation in spite of a negative probation report that disappears but is not destroyed, be it only because of the political value it represents. And what was to happen happens and a few people, including a black schoolboy is killed in a shoot out between a police detective and that criminal. The city may explode because of it: racial tension because of the black school boy and social tension because of the insecurity such criminals free to roam around and go on with their criminal activities represent to the public. Unluckily the film does not show that tension very well and follows the investigation of the first deputy mayor who wants to find out the truth and does find it out. But along the way a few witnesses are killed, and those who had played some role in the whole business are forced to retire (the judge), to end their career and life (the contractor or the contractor's go between), a public officer who was ready to deliver the disappeared probation report, and some shady character after he provides some crucial information. The mayor himself retires and takes a long vacation; But the main interest of the film is in the exploration of the contortions the mayor is doing to cover up the problem and the contortions he remembers having done in the past that led to the mistake about this probation case. The political philosophy that nothing is pure white or pure black and that everything is grey which is never comfortable to decision makers is invoked as an excuse for wrong but profitable decisions. We are not speaking of necessary compromises to get to some consensus in some domains that are crucial to public interest. We are speaking of considering as less important to take a bad decision about some petty or supposedly petty criminal than some infrastructure or economic project in the city. That is not typical of New York. That is true in any mayoral office. It is just more significant in quantity and in quality in a big metropolitan area like New York and of course in a city or country where police departments are municipal and are controlled by political imperatives. The young deputy mayor is thus pushing the old mayor out of the way, and he derails his ambition to be the governor of New York in order to become the president of the US. The mayor is perfect due to the embodiment Al Pacino offers us since he is able to express ten minutes of dialogue with one facial expression that makes the whole dialogue useless. I find the end slightly mushy with the ex-deputy mayor campaigning in his own name. That seems to mean that he was so attached to justice because he saw his chance to push the mayor out of his own way. Hence he is not better than all the others, just still too young in his ambition.<br /><br />Dr Jacques COULARDEAU, University Paris Dauphine, University Paris 1 Pantheon Sorbonne & University Versailles Saint Quentin en Yvelines\"]\n",
            "\n",
            "labels:  [0 0 1]\n"
          ],
          "name": "stdout"
        }
      ]
    },
    {
      "cell_type": "markdown",
      "metadata": {
        "id": "s5eWCo88voPY"
      },
      "source": [
        "## Create the text encoder"
      ]
    },
    {
      "cell_type": "markdown",
      "metadata": {
        "id": "TFevcItw15P_"
      },
      "source": [
        "The raw text loaded by `tfds` needs to be processed before it can be used in a model. The simplest way to process text for training is using the `experimental.preprocessing.TextVectorization` layer. This layer has many capabilities, but this tutorial sticks to the default behavior.\n",
        "\n",
        "Create the layer, and pass the dataset's text to the layer's `.adapt` method:"
      ]
    },
    {
      "cell_type": "code",
      "metadata": {
        "id": "uC25Lu1Yvuqy"
      },
      "source": [
        "VOCAB_SIZE=1000\n",
        "encoder = tf.keras.layers.experimental.preprocessing.TextVectorization(\n",
        "    max_tokens=VOCAB_SIZE)\n",
        "encoder.adapt(train_dataset.map(lambda text, label: text))"
      ],
      "execution_count": null,
      "outputs": []
    },
    {
      "cell_type": "markdown",
      "metadata": {
        "id": "IuQzVBbe3Ldu"
      },
      "source": [
        "The `.adapt` method sets the layer's vocabulary. Here are the first 20 tokens. After the padding and unknown tokens they're sorted by frequency: "
      ]
    },
    {
      "cell_type": "code",
      "metadata": {
        "id": "tBoyjjWg0Ac9",
        "colab": {
          "base_uri": "https://localhost:8080/"
        },
        "outputId": "dea81a46-f628-4067-de85-a685a7774d20"
      },
      "source": [
        "vocab = np.array(encoder.get_vocabulary())\n",
        "vocab[:20]"
      ],
      "execution_count": null,
      "outputs": [
        {
          "output_type": "execute_result",
          "data": {
            "text/plain": [
              "array(['', '[UNK]', 'the', 'and', 'a', 'of', 'to', 'is', 'in', 'it', 'i',\n",
              "       'this', 'that', 'br', 'was', 'as', 'for', 'with', 'movie', 'but'],\n",
              "      dtype='<U14')"
            ]
          },
          "metadata": {
            "tags": []
          },
          "execution_count": 10
        }
      ]
    },
    {
      "cell_type": "markdown",
      "metadata": {
        "id": "mjId5pua3jHQ"
      },
      "source": [
        "Once the vocabulary is set, the layer can encode text into indices. The tensors of indices are 0-padded to the longest sequence in the batch (unless you set a fixed `output_sequence_length`):"
      ]
    },
    {
      "cell_type": "code",
      "metadata": {
        "id": "RGc7C9WiwRWs",
        "colab": {
          "base_uri": "https://localhost:8080/"
        },
        "outputId": "1e8fd535-7325-4a4f-df59-803311d55f5a"
      },
      "source": [
        "encoded_example = encoder(example)[:3].numpy()\n",
        "encoded_example"
      ],
      "execution_count": null,
      "outputs": [
        {
          "output_type": "execute_result",
          "data": {
            "text/plain": [
              "array([[49, 14,  2, ...,  0,  0,  0],\n",
              "       [10,  1,  1, ...,  0,  0,  0],\n",
              "       [ 2, 20,  1, ...,  0,  0,  0]])"
            ]
          },
          "metadata": {
            "tags": []
          },
          "execution_count": 11
        }
      ]
    },
    {
      "cell_type": "markdown",
      "metadata": {
        "id": "F5cjz0bS39IN"
      },
      "source": [
        "With the default settings, the process is not completely reversible. There are three main reasns for that:\n",
        "\n",
        "1. The default value for `preprocessing.TextVectorization`'s `standardize` argument is `\"lower_and_strip_punctuation\"`.\n",
        "2. The limited vocabulary size and lack of character-based fallback results in some unknown tokens."
      ]
    },
    {
      "cell_type": "code",
      "metadata": {
        "id": "N_tD0QY5wXaK",
        "colab": {
          "base_uri": "https://localhost:8080/"
        },
        "outputId": "77b6c5d2-da11-4090-ea60-ca29ac2a5e13"
      },
      "source": [
        "for n in range(3):\n",
        "  print(\"Original: \", example[n].numpy())\n",
        "  print(\"Round-trip: \", \" \".join(vocab[encoded_example[n]]))\n",
        "  print()"
      ],
      "execution_count": null,
      "outputs": [
        {
          "output_type": "stream",
          "text": [
            "Original:  b'What was the point of this movie? What was the plot? I do not know. Shaq can\\'t act, people don\\'t know how to direct, and I am Kazaam! A genie who raps? Come on. Maybe Eminem or Linkin Park will be in a movie like this. I remember I watched this just to kill time. It didn\\'t really interest me. I just remember thinking, \"Who put Shaq in this movie???\" The whole story seemed stupid too. It made no sense whatsoever. I guess an unrealized moral of this movie is that you can find anything in the ghetto and anything can happen. I can\\'t comment much more because this movie is so terrible there\\'s nothing worth commenting about. I \"wish\" this movie would go away.'\n",
            "Round-trip:  what was the point of this movie what was the plot i do not know [UNK] cant act people dont know how to [UNK] and i am [UNK] a [UNK] who [UNK] come on maybe [UNK] or [UNK] [UNK] will be in a movie like this i remember i watched this just to kill time it didnt really interest me i just remember thinking who put [UNK] in this movie the whole story seemed stupid too it made no sense [UNK] i guess an [UNK] [UNK] of this movie is that you can find anything in the [UNK] and anything can happen i cant comment much more because this movie is so terrible theres nothing worth [UNK] about i wish this movie would go away                                                                                                                                                                                                                                                                                                                                                                                                                                                                                                                                                                                              \n",
            "\n",
            "Original:  b'I disliked Frosty returns and this one. Both of the films are absurd with poorly written characters and bad voices. The voices could have been done but Frosty returns was worst than this because of the unalike snowman they drew. Frosty\\'s winterwonder land was great and so was the original heartwarming Drama. The only good thing about this film was Frosty the snowman was alike of the classic 60s and a funny line like when they were talking about things that are not real and then Frosty walks by the window humming, whistling whatever he was doing but everything else was badly written and badly animated and I barely got the plot. I saw the DVD cover at the library about 2 or 3 years ago and the art looked crappy so I didn\\'t pick it up until this year because the pictures on the back looked a little touching but I played this film. It was a hassle poorly art characters just like the DVD and it was just terrible about what\\'s going on. I watched this at night and found it dull that I fell asleep on the whole thing (Wait I always do that when I watch something while I go to sleep) But this movie was overall boring<br /><br />Overall rating: Grade -C<br /><br />This is like another holiday special bad rip-off in the frosty returns and this one. This one is the badly 4th sequel like Home alone 4 well i thought that movie was OK but home alone 3 was great. But it\\'s like a bad home alone 3 and 4 people hate like this. My sister didn\\'t watch it that much because when she came into my room to watch 2 minutes and a half of it, she walked away like \"I hate the animation!\" I agree to her just like the 3rd one Frosty returns. Plain awful!'\n",
            "Round-trip:  i [UNK] [UNK] [UNK] and this one both of the films are [UNK] with poorly written characters and bad [UNK] the [UNK] could have been done but [UNK] [UNK] was worst than this because of the [UNK] [UNK] they [UNK] [UNK] [UNK] [UNK] was great and so was the original [UNK] drama the only good thing about this film was [UNK] the [UNK] was [UNK] of the classic [UNK] and a funny line like when they were talking about things that are not real and then [UNK] [UNK] by the [UNK] [UNK] [UNK] whatever he was doing but everything else was badly written and badly [UNK] and i [UNK] got the plot i saw the dvd [UNK] at the [UNK] about 2 or 3 years ago and the art looked [UNK] so i didnt [UNK] it up until this year because the [UNK] on the back looked a little [UNK] but i played this film it was a [UNK] poorly art characters just like the dvd and it was just terrible about whats going on i watched this at night and found it dull that i [UNK] [UNK] on the whole thing wait i always do that when i watch something while i go to [UNK] but this movie was overall [UNK] br overall rating [UNK] [UNK] br this is like another [UNK] special bad [UNK] in the [UNK] [UNK] and this one this one is the badly [UNK] sequel like home alone 4 well i thought that movie was ok but home alone 3 was great but its like a bad home alone 3 and 4 people hate like this my sister didnt watch it that much because when she came into my room to watch 2 minutes and a half of it she [UNK] away like i hate the animation i [UNK] to her just like the [UNK] one [UNK] [UNK] [UNK] awful                                                                                                                                                                                                                                                                                                                                                                                                \n",
            "\n",
            "Original:  b\"The film concerns a classic theme. In fact it concerns the theme exploited by Batman, from beginning to end, but in real data and details. The mayor of New York, appreciated and very diligent and dynamic, in order to get some project through slightly faster than normal, yields to some pressure from some private business contractors about a criminal drug dealer who should have been sent and kept in prison and he pressurizes the judge in his turn to set him free on probation in spite of a negative probation report that disappears but is not destroyed, be it only because of the political value it represents. And what was to happen happens and a few people, including a black schoolboy is killed in a shoot out between a police detective and that criminal. The city may explode because of it: racial tension because of the black school boy and social tension because of the insecurity such criminals free to roam around and go on with their criminal activities represent to the public. Unluckily the film does not show that tension very well and follows the investigation of the first deputy mayor who wants to find out the truth and does find it out. But along the way a few witnesses are killed, and those who had played some role in the whole business are forced to retire (the judge), to end their career and life (the contractor or the contractor's go between), a public officer who was ready to deliver the disappeared probation report, and some shady character after he provides some crucial information. The mayor himself retires and takes a long vacation; But the main interest of the film is in the exploration of the contortions the mayor is doing to cover up the problem and the contortions he remembers having done in the past that led to the mistake about this probation case. The political philosophy that nothing is pure white or pure black and that everything is grey which is never comfortable to decision makers is invoked as an excuse for wrong but profitable decisions. We are not speaking of necessary compromises to get to some consensus in some domains that are crucial to public interest. We are speaking of considering as less important to take a bad decision about some petty or supposedly petty criminal than some infrastructure or economic project in the city. That is not typical of New York. That is true in any mayoral office. It is just more significant in quantity and in quality in a big metropolitan area like New York and of course in a city or country where police departments are municipal and are controlled by political imperatives. The young deputy mayor is thus pushing the old mayor out of the way, and he derails his ambition to be the governor of New York in order to become the president of the US. The mayor is perfect due to the embodiment Al Pacino offers us since he is able to express ten minutes of dialogue with one facial expression that makes the whole dialogue useless. I find the end slightly mushy with the ex-deputy mayor campaigning in his own name. That seems to mean that he was so attached to justice because he saw his chance to push the mayor out of his own way. Hence he is not better than all the others, just still too young in his ambition.<br /><br />Dr Jacques COULARDEAU, University Paris Dauphine, University Paris 1 Pantheon Sorbonne & University Versailles Saint Quentin en Yvelines\"\n",
            "Round-trip:  the film [UNK] a classic theme in fact it [UNK] the theme [UNK] by [UNK] from beginning to end but in real [UNK] and [UNK] the [UNK] of new york [UNK] and very [UNK] and [UNK] in order to get some [UNK] through [UNK] [UNK] than [UNK] [UNK] to some [UNK] from some [UNK] business [UNK] about a [UNK] [UNK] [UNK] who should have been [UNK] and kept in [UNK] and he [UNK] the [UNK] in his turn to set him free on [UNK] in [UNK] of a [UNK] [UNK] [UNK] that [UNK] but is not [UNK] be it only because of the political [UNK] it [UNK] and what was to happen happens and a few people including a black [UNK] is killed in a [UNK] out between a police [UNK] and that [UNK] the city may [UNK] because of it [UNK] [UNK] because of the black school boy and [UNK] [UNK] because of the [UNK] such [UNK] free to [UNK] around and go on with their [UNK] [UNK] [UNK] to the [UNK] [UNK] the film does not show that [UNK] very well and [UNK] the [UNK] of the first [UNK] [UNK] who wants to find out the truth and does find it out but along the way a few [UNK] are killed and those who had played some role in the whole business are forced to [UNK] the [UNK] to end their career and life the [UNK] or the [UNK] go between a [UNK] [UNK] who was [UNK] to [UNK] the [UNK] [UNK] [UNK] and some [UNK] character after he [UNK] some [UNK] [UNK] the [UNK] himself [UNK] and takes a long [UNK] but the main interest of the film is in the [UNK] of the [UNK] the [UNK] is doing to [UNK] up the problem and the [UNK] he [UNK] having done in the past that [UNK] to the [UNK] about this [UNK] case the political [UNK] that nothing is [UNK] white or [UNK] black and that everything is [UNK] which is never [UNK] to [UNK] [UNK] is [UNK] as an [UNK] for wrong but [UNK] [UNK] we are not [UNK] of [UNK] [UNK] to get to some [UNK] in some [UNK] that are [UNK] to [UNK] interest we are [UNK] of [UNK] as less important to take a bad [UNK] about some [UNK] or [UNK] [UNK] [UNK] than some [UNK] or [UNK] [UNK] in the city that is not typical of new york that is true in any [UNK] [UNK] it is just more [UNK] in [UNK] and in quality in a big [UNK] [UNK] like new york and of course in a city or country where police [UNK] are [UNK] and are [UNK] by political [UNK] the young [UNK] [UNK] is [UNK] [UNK] the old [UNK] out of the way and he [UNK] his [UNK] to be the [UNK] of new york in order to become the [UNK] of the us the [UNK] is perfect due to the [UNK] [UNK] [UNK] [UNK] us since he is able to [UNK] ten minutes of dialogue with one [UNK] [UNK] that makes the whole dialogue [UNK] i find the end [UNK] [UNK] with the [UNK] [UNK] [UNK] in his own name that seems to mean that he was so [UNK] to [UNK] because he saw his chance to [UNK] the [UNK] out of his own way [UNK] he is not better than all the others just still too young in his [UNK] br dr [UNK] [UNK] [UNK] [UNK] [UNK] [UNK] [UNK] 1 [UNK] [UNK] [UNK] [UNK] [UNK] [UNK] [UNK] [UNK]                                                                                                            \n",
            "\n"
          ],
          "name": "stdout"
        }
      ]
    },
    {
      "cell_type": "markdown",
      "metadata": {
        "id": "bjUqGVBxGw-t"
      },
      "source": [
        "## Create the model"
      ]
    },
    {
      "cell_type": "markdown",
      "metadata": {
        "id": "W7zsmInBOCPO"
      },
      "source": [
        "![A drawing of the information flow in the model](https://github.com/tensorflow/docs/blob/master/site/en/tutorials/text/images/bidirectional.png?raw=1)"
      ]
    },
    {
      "cell_type": "markdown",
      "metadata": {
        "id": "bgs6nnSTGw-t"
      },
      "source": [
        "Above is a diagram of the model. \n",
        "\n",
        "1. This model can be build as a `tf.keras.Sequential`.\n",
        "\n",
        "1. The first layer is the `encoder`, which converts the text to a sequence of token indices.\n",
        "\n",
        "2. After the encoder is an embedding layer. An embedding layer stores one vector per word. When called, it converts the sequences of word indices to sequences of vectors. These vectors are trainable. After training (on enough data), words with similar meanings often have similar vectors.\n",
        "\n",
        "  This index-lookup is much more efficient than the equivalent operation of passing a one-hot encoded vector through a `tf.keras.layers.Dense` layer.\n",
        "\n",
        "3. A recurrent neural network (RNN) processes sequence input by iterating through the elements. RNNs pass the outputs from one timestep to their input on the next timestep.\n",
        "\n",
        "  The `tf.keras.layers.Bidirectional` wrapper can also be used with an RNN layer. This propagates the input forward and backwards through the RNN layer and then concatenates the final output. \n",
        "\n",
        "  * The main advantage to a bidirectional RNN is that the signal from the beginning of the input doesn't need to be processed all the way through every timestep to affect the output.  \n",
        "\n",
        "  * The main disadvantage of a bidirectional RNN is that you can't efficiently stream predictions as words are being added to the end.\n",
        "\n",
        "1. After the RNN has converted the sequence to a single vector the two `layers.Dense` do some final processing, and convert from this vector representation to a single logit as the classification output. \n"
      ]
    },
    {
      "cell_type": "markdown",
      "metadata": {
        "id": "V4fodCI7soQi"
      },
      "source": [
        "The code to implement this is below:"
      ]
    },
    {
      "cell_type": "code",
      "metadata": {
        "id": "LwfoBkmRYcP3"
      },
      "source": [
        "model = tf.keras.Sequential([\n",
        "    encoder,\n",
        "    tf.keras.layers.Embedding(\n",
        "        input_dim=len(encoder.get_vocabulary()),\n",
        "        output_dim=64,\n",
        "        # Use masking to handle the variable sequence lengths\n",
        "        mask_zero=True),\n",
        "    tf.keras.layers.Bidirectional(tf.keras.layers.LSTM(64)),\n",
        "    tf.keras.layers.Dense(64, activation='relu'),\n",
        "    tf.keras.layers.Dense(1)\n",
        "])"
      ],
      "execution_count": null,
      "outputs": []
    },
    {
      "cell_type": "markdown",
      "metadata": {
        "id": "QIGmIGkkouUb"
      },
      "source": [
        "Please note that Keras sequential model is used here since all the layers in the model only have single input and produce single output. In case you want to use stateful RNN layer, you might want to build your model with Keras functional API or model subclassing so that you can retrieve and reuse the RNN layer states. Please check [Keras RNN guide](https://www.tensorflow.org/guide/keras/rnn#rnn_state_reuse) for more details."
      ]
    },
    {
      "cell_type": "markdown",
      "metadata": {
        "id": "kF-PsCk1LwjY"
      },
      "source": [
        "The embedding layer [uses masking](../../guide/keras/masking_and_padding) to handle the varying sequence-lengths. All the layers after the `Embedding` support masking:"
      ]
    },
    {
      "cell_type": "code",
      "metadata": {
        "id": "87a8-CwfKebw",
        "colab": {
          "base_uri": "https://localhost:8080/"
        },
        "outputId": "ab1120c4-2aee-40c8-ef1c-d024fbee1d65"
      },
      "source": [
        "print([layer.supports_masking for layer in model.layers])"
      ],
      "execution_count": null,
      "outputs": [
        {
          "output_type": "stream",
          "text": [
            "[False, True, True, True, True]\n"
          ],
          "name": "stdout"
        }
      ]
    },
    {
      "cell_type": "markdown",
      "metadata": {
        "id": "ZlS0iaUIWLpI"
      },
      "source": [
        "To confirm that this works as expected, evaluate a sentence twice. First, alone so there's no padding to mask:"
      ]
    },
    {
      "cell_type": "code",
      "metadata": {
        "id": "O41gw3KfWHus",
        "colab": {
          "base_uri": "https://localhost:8080/"
        },
        "outputId": "bd4bf061-ee9e-4b5d-9cfe-b46d909e88bb"
      },
      "source": [
        "# predict on a sample text without padding.\n",
        "\n",
        "sample_text = ('The movie was cool. The animation and the graphics '\n",
        "               'were out of this world. I would recommend this movie.')\n",
        "predictions = model.predict(np.array([sample_text]))\n",
        "print(predictions[0])"
      ],
      "execution_count": null,
      "outputs": [
        {
          "output_type": "stream",
          "text": [
            "[-0.01241037]\n"
          ],
          "name": "stdout"
        }
      ]
    },
    {
      "cell_type": "markdown",
      "metadata": {
        "id": "K0VQmGnEWcuz"
      },
      "source": [
        "Now, evaluate it again in a batch with a longer sentence. The result should be identical:"
      ]
    },
    {
      "cell_type": "code",
      "metadata": {
        "id": "UIgpuTeFNDzq",
        "colab": {
          "base_uri": "https://localhost:8080/"
        },
        "outputId": "fd6e0220-2881-447e-d391-0d268124fb93"
      },
      "source": [
        "# predict on a sample text with padding\n",
        "\n",
        "padding = \"the \" * 2000\n",
        "predictions = model.predict(np.array([sample_text, padding]))\n",
        "print(predictions[0])"
      ],
      "execution_count": null,
      "outputs": [
        {
          "output_type": "stream",
          "text": [
            "[-0.01241037]\n"
          ],
          "name": "stdout"
        }
      ]
    },
    {
      "cell_type": "markdown",
      "metadata": {
        "id": "sRI776ZcH3Tf"
      },
      "source": [
        "Compile the Keras model to configure the training process:"
      ]
    },
    {
      "cell_type": "code",
      "metadata": {
        "id": "kj2xei41YZjC"
      },
      "source": [
        "model.compile(loss=tf.keras.losses.BinaryCrossentropy(from_logits=True),\n",
        "              optimizer=tf.keras.optimizers.Adam(1e-4),\n",
        "              metrics=['accuracy'])"
      ],
      "execution_count": null,
      "outputs": []
    },
    {
      "cell_type": "markdown",
      "metadata": {
        "id": "zIwH3nto596k"
      },
      "source": [
        "## Train the model"
      ]
    },
    {
      "cell_type": "code",
      "metadata": {
        "id": "hw86wWS4YgR2",
        "colab": {
          "base_uri": "https://localhost:8080/"
        },
        "outputId": "81f7893c-d5a3-4f59-a15e-e82a5b9572af"
      },
      "source": [
        "history = model.fit(train_dataset, epochs=10,\n",
        "                    validation_data=test_dataset, \n",
        "                    validation_steps=30)"
      ],
      "execution_count": null,
      "outputs": [
        {
          "output_type": "stream",
          "text": [
            "Epoch 1/10\n",
            "391/391 [==============================] - 33s 84ms/step - loss: 0.6380 - accuracy: 0.5828 - val_loss: 0.4777 - val_accuracy: 0.7667\n",
            "Epoch 2/10\n",
            "391/391 [==============================] - 31s 79ms/step - loss: 0.3964 - accuracy: 0.8209 - val_loss: 0.3766 - val_accuracy: 0.8094\n",
            "Epoch 3/10\n",
            "391/391 [==============================] - 31s 79ms/step - loss: 0.3375 - accuracy: 0.8523 - val_loss: 0.3358 - val_accuracy: 0.8453\n",
            "Epoch 4/10\n",
            "391/391 [==============================] - 31s 78ms/step - loss: 0.3204 - accuracy: 0.8614 - val_loss: 0.3278 - val_accuracy: 0.8594\n",
            "Epoch 5/10\n",
            "391/391 [==============================] - 31s 79ms/step - loss: 0.3120 - accuracy: 0.8655 - val_loss: 0.3253 - val_accuracy: 0.8583\n",
            "Epoch 6/10\n",
            "391/391 [==============================] - 31s 79ms/step - loss: 0.3079 - accuracy: 0.8688 - val_loss: 0.3239 - val_accuracy: 0.8583\n",
            "Epoch 7/10\n",
            "391/391 [==============================] - 31s 78ms/step - loss: 0.3066 - accuracy: 0.8678 - val_loss: 0.3223 - val_accuracy: 0.8505\n",
            "Epoch 8/10\n",
            "391/391 [==============================] - 31s 79ms/step - loss: 0.3027 - accuracy: 0.8710 - val_loss: 0.3181 - val_accuracy: 0.8589\n",
            "Epoch 9/10\n",
            "391/391 [==============================] - 31s 79ms/step - loss: 0.2998 - accuracy: 0.8706 - val_loss: 0.3224 - val_accuracy: 0.8615\n",
            "Epoch 10/10\n",
            "391/391 [==============================] - 31s 78ms/step - loss: 0.2976 - accuracy: 0.8731 - val_loss: 0.3212 - val_accuracy: 0.8625\n"
          ],
          "name": "stdout"
        }
      ]
    },
    {
      "cell_type": "code",
      "metadata": {
        "id": "BaNbXi43YgUT",
        "colab": {
          "base_uri": "https://localhost:8080/"
        },
        "outputId": "69f0dc9a-38a5-43a2-8787-7fe79fb582e9"
      },
      "source": [
        "test_loss, test_acc = model.evaluate(test_dataset)\n",
        "\n",
        "print('Test Loss: {}'.format(test_loss))\n",
        "print('Test Accuracy: {}'.format(test_acc))"
      ],
      "execution_count": null,
      "outputs": [
        {
          "output_type": "stream",
          "text": [
            "391/391 [==============================] - 13s 34ms/step - loss: 0.3184 - accuracy: 0.8641\n",
            "Test Loss: 0.31841158866882324\n",
            "Test Accuracy: 0.8641200065612793\n"
          ],
          "name": "stdout"
        }
      ]
    },
    {
      "cell_type": "code",
      "metadata": {
        "id": "OZmwt_mzaQJk",
        "colab": {
          "base_uri": "https://localhost:8080/",
          "height": 518
        },
        "outputId": "fffc40f1-2a1d-4122-8f0a-8c21ddd2437f"
      },
      "source": [
        "plt.figure(figsize=(16,8))\n",
        "plt.subplot(1,2,1)\n",
        "plot_graphs(history, 'accuracy')\n",
        "plt.ylim(None,1)\n",
        "plt.subplot(1,2,2)\n",
        "plot_graphs(history, 'loss')\n",
        "plt.ylim(0,None)"
      ],
      "execution_count": null,
      "outputs": [
        {
          "output_type": "execute_result",
          "data": {
            "text/plain": [
              "(0.0, 0.6549881741404533)"
            ]
          },
          "metadata": {
            "tags": []
          },
          "execution_count": 20
        },
        {
          "output_type": "display_data",
          "data": {
            "image/png": "[encoded data removed]",
            "text/plain": [
              "<Figure size 1152x576 with 2 Axes>"
            ]
          },
          "metadata": {
            "tags": [],
            "needs_background": "light"
          }
        }
      ]
    },
    {
      "cell_type": "markdown",
      "metadata": {
        "id": "DwSE_386uhxD"
      },
      "source": [
        "Run a prediction on a neew sentence:\n",
        "\n",
        "If the prediction is >= 0.0, it is positive else it is negative."
      ]
    },
    {
      "cell_type": "code",
      "metadata": {
        "id": "ZXgfQSgRW6zU"
      },
      "source": [
        "sample_text = ('The movie was cool. The animation and the graphics '\n",
        "               'were out of this world. I would recommend this movie.')\n",
        "predictions = model.predict(np.array([sample_text]))"
      ],
      "execution_count": null,
      "outputs": []
    },
    {
      "cell_type": "markdown",
      "metadata": {
        "id": "7g1evcaRpTKm"
      },
      "source": [
        "## Stack two or more LSTM layers\n",
        "\n",
        "Keras recurrent layers have two available modes that are controlled by the `return_sequences` constructor argument:\n",
        "\n",
        "* If `False` it returns only the last output for each input sequence (a 2D tensor of shape (batch_size, output_features)). This is the default, used in the previous model.\n",
        "\n",
        "* If `True` the full sequences of successive outputs for each timestep is returned (a 3D tensor of shape `(batch_size, timesteps, output_features)`).\n",
        "\n",
        "Here is what the flow of information looks like with `return_sequences=True`:\n",
        "\n"
      ]
    },
    {
      "cell_type": "markdown",
      "metadata": {
        "id": "wbSClCrG1z8l"
      },
      "source": [
        "The interesting thing about using an `RNN` with `return_sequences=True` is that the output still has 3-axes, like the input, so it can be passed to another RNN layer, like this:"
      ]
    },
    {
      "cell_type": "code",
      "metadata": {
        "id": "jo1jjO3vn0jo"
      },
      "source": [
        "model = tf.keras.Sequential([\n",
        "    encoder,\n",
        "    tf.keras.layers.Embedding(len(encoder.get_vocabulary()), 64, mask_zero=True),\n",
        "    tf.keras.layers.Bidirectional(tf.keras.layers.LSTM(64,  return_sequences=True)),\n",
        "    tf.keras.layers.Bidirectional(tf.keras.layers.LSTM(32)),\n",
        "    tf.keras.layers.Dense(64, activation='relu'),\n",
        "    tf.keras.layers.Dropout(0.5),\n",
        "    tf.keras.layers.Dense(1)\n",
        "])"
      ],
      "execution_count": null,
      "outputs": []
    },
    {
      "cell_type": "code",
      "metadata": {
        "id": "hEPV5jVGp-is"
      },
      "source": [
        "model.compile(loss=tf.keras.losses.BinaryCrossentropy(from_logits=True),\n",
        "              optimizer=tf.keras.optimizers.Adam(1e-4),\n",
        "              metrics=['accuracy'])"
      ],
      "execution_count": null,
      "outputs": []
    },
    {
      "cell_type": "code",
      "metadata": {
        "id": "LeSE-YjdqAeN",
        "colab": {
          "base_uri": "https://localhost:8080/"
        },
        "outputId": "bfd716c6-970f-4db3-e696-ae6021b345ab"
      },
      "source": [
        "history = model.fit(train_dataset, epochs=10,\n",
        "                    validation_data=test_dataset,\n",
        "                    validation_steps=30)"
      ],
      "execution_count": null,
      "outputs": [
        {
          "output_type": "stream",
          "text": [
            "Epoch 1/10\n",
            "391/391 [==============================] - 58s 147ms/step - loss: 0.6220 - accuracy: 0.5880 - val_loss: 0.4496 - val_accuracy: 0.7573\n",
            "Epoch 2/10\n",
            "391/391 [==============================] - 54s 139ms/step - loss: 0.3827 - accuracy: 0.8320 - val_loss: 0.3483 - val_accuracy: 0.8453\n",
            "Epoch 3/10\n",
            "391/391 [==============================] - 55s 140ms/step - loss: 0.3338 - accuracy: 0.8572 - val_loss: 0.3404 - val_accuracy: 0.8344\n",
            "Epoch 4/10\n",
            "391/391 [==============================] - 55s 140ms/step - loss: 0.3225 - accuracy: 0.8608 - val_loss: 0.3344 - val_accuracy: 0.8396\n",
            "Epoch 5/10\n",
            "391/391 [==============================] - 54s 139ms/step - loss: 0.3149 - accuracy: 0.8659 - val_loss: 0.3165 - val_accuracy: 0.8599\n",
            "Epoch 6/10\n",
            "391/391 [==============================] - 54s 139ms/step - loss: 0.3058 - accuracy: 0.8682 - val_loss: 0.3209 - val_accuracy: 0.8562\n",
            "Epoch 7/10\n",
            "391/391 [==============================] - 54s 139ms/step - loss: 0.3046 - accuracy: 0.8682 - val_loss: 0.3217 - val_accuracy: 0.8583\n",
            "Epoch 8/10\n",
            "391/391 [==============================] - 54s 138ms/step - loss: 0.3012 - accuracy: 0.8713 - val_loss: 0.3248 - val_accuracy: 0.8615\n",
            "Epoch 9/10\n",
            "391/391 [==============================] - 54s 139ms/step - loss: 0.3002 - accuracy: 0.8700 - val_loss: 0.3182 - val_accuracy: 0.8521\n",
            "Epoch 10/10\n",
            "391/391 [==============================] - 55s 140ms/step - loss: 0.2964 - accuracy: 0.8721 - val_loss: 0.3264 - val_accuracy: 0.8635\n"
          ],
          "name": "stdout"
        }
      ]
    },
    {
      "cell_type": "code",
      "metadata": {
        "id": "_LdwilM1qPM3",
        "colab": {
          "base_uri": "https://localhost:8080/"
        },
        "outputId": "475ef39a-b1b6-40b9-9fdf-996bb08bd954"
      },
      "source": [
        "test_loss, test_acc = model.evaluate(test_dataset)\n",
        "\n",
        "print('Test Loss: {}'.format(test_loss))\n",
        "print('Test Accuracy: {}'.format(test_acc))"
      ],
      "execution_count": null,
      "outputs": [
        {
          "output_type": "stream",
          "text": [
            "391/391 [==============================] - 24s 62ms/step - loss: 0.3254 - accuracy: 0.8626\n",
            "Test Loss: 0.32535719871520996\n",
            "Test Accuracy: 0.862559974193573\n"
          ],
          "name": "stdout"
        }
      ]
    },
    {
      "cell_type": "code",
      "metadata": {
        "id": "ykUKnAoqbycW",
        "colab": {
          "base_uri": "https://localhost:8080/"
        },
        "outputId": "98a05332-18dd-439a-8a01-8a329c37d6c5"
      },
      "source": [
        "# predict on a sample text without padding.\n",
        "\n",
        "sample_text = ('The movie was not good. The animation and the graphics '\n",
        "                    'were terrible. I would not recommend this movie.')\n",
        "predictions = model.predict(np.array([sample_text]))\n",
        "print(predictions)"
      ],
      "execution_count": null,
      "outputs": [
        {
          "output_type": "stream",
          "text": [
            "[[-1.9589584]]\n"
          ],
          "name": "stdout"
        }
      ]
    },
    {
      "cell_type": "code",
      "metadata": {
        "id": "_YYub0EDtwCu",
        "colab": {
          "base_uri": "https://localhost:8080/",
          "height": 388
        },
        "outputId": "1832ac06-03ab-4e57-af27-6462f22889d0"
      },
      "source": [
        "plt.figure(figsize=(16,6))\n",
        "plt.subplot(1,2,1)\n",
        "plot_graphs(history, 'accuracy')\n",
        "plt.subplot(1,2,2)\n",
        "plot_graphs(history, 'loss')"
      ],
      "execution_count": null,
      "outputs": [
        {
          "output_type": "display_data",
          "data": {
            "image/png": "[encoded data removed]",
            "text/plain": [
              "<Figure size 1152x432 with 2 Axes>"
            ]
          },
          "metadata": {
            "tags": [],
            "needs_background": "light"
          }
        }
      ]
    }
  ]
}